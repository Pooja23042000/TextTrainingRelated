{
 "cells": [
  {
   "cell_type": "code",
   "execution_count": 1,
   "id": "430905fc-dbad-445e-9305-fea028d709d4",
   "metadata": {},
   "outputs": [],
   "source": [
    "import os"
   ]
  },
  {
   "cell_type": "code",
   "execution_count": 2,
   "id": "b25dee6b-a76b-45a9-88c9-5643865175e3",
   "metadata": {},
   "outputs": [],
   "source": [
    "import json\n",
    "from pymongo import MongoClient\n"
   ]
  },
  {
   "cell_type": "code",
   "execution_count": 3,
   "id": "01b12510-1c40-4a07-bd70-bcfc753c7f70",
   "metadata": {},
   "outputs": [],
   "source": [
    "myclient=MongoClient(\"mongodb://localhost:27017\")"
   ]
  },
  {
   "cell_type": "code",
   "execution_count": 4,
   "id": "828faf85-d4c9-4be0-8658-da3337018845",
   "metadata": {},
   "outputs": [],
   "source": [
    "db=myclient['TextDataset']"
   ]
  },
  {
   "cell_type": "code",
   "execution_count": null,
   "id": "89060037-c551-4b81-b270-e3887286c040",
   "metadata": {},
   "outputs": [],
   "source": [
    "root_path=\"C:/Users/pooja/Downloads/JSONFiles/\"\n",
    "root_list=os.listdir(root_path)\n",
    "for folder in root_list:\n",
    "    #collection=db[folder]\n",
    "    folder2_path=root_path+folder+\"/\"\n",
    "    folder_list=os.listdir(folder2_path)\n",
    "    for file in folder_list:\n",
    "        file_path=folder2_path+file\n",
    "        with open(file_path) as file:\n",
    "            data=json.load(file)\n",
    "        collection.insert_one(data)\n"
   ]
  },
  {
   "cell_type": "code",
   "execution_count": 5,
   "id": "77470033-6eb7-4efd-926f-eb6d5118ac80",
   "metadata": {},
   "outputs": [],
   "source": [
    "Collection= db[\"CPC\"]\n",
    " \n",
    "# Loading or Opening the json file\n",
    "#with open('C:/Users/pooja/Downloads/JSONFiles/A/A01C.json') as file:\n",
    " #   file_data = json.load(file)\n",
    "\n",
    "#Collection.insert_one(file_data)"
   ]
  },
  {
   "cell_type": "code",
   "execution_count": 10,
   "id": "03413d44-da71-4905-95ef-9fb306f40314",
   "metadata": {},
   "outputs": [],
   "source": [
    "doc=Collection.find()"
   ]
  },
  {
   "cell_type": "code",
   "execution_count": 13,
   "id": "eeb86ad3-e7ac-4735-8ccb-1abe04e6726b",
   "metadata": {},
   "outputs": [],
   "source": [
    "dict=doc[1]"
   ]
  },
  {
   "cell_type": "code",
   "execution_count": 14,
   "id": "a0af7c9c-a674-450b-92f0-68b1ab06d305",
   "metadata": {},
   "outputs": [
    {
     "data": {
      "text/plain": [
       "['HUMAN NECESSITIES',\n",
       " 'AGRICULTURE',\n",
       " 'AGRICULTURE;FORESTRY;ANIMAL HUSBANDRY;HUNTING;TRAPPING;FISHING',\n",
       " 'SOIL WORKING IN AGRICULTURE OR FORESTRY;PARTS, DETAILS, OR ACCESSORIES OF AGRICULTURAL MACHINES OR IMPLEMENTS, IN GENERAL ',\n",
       " 'Hand tools ',\n",
       " 'Spades;Shovels ']"
      ]
     },
     "execution_count": 14,
     "metadata": {},
     "output_type": "execute_result"
    }
   ],
   "source": [
    "dict['A01B102']"
   ]
  },
  {
   "cell_type": "code",
   "execution_count": null,
   "id": "06ffe937-ea2f-4527-b36c-0cf47c051a74",
   "metadata": {},
   "outputs": [],
   "source": [
    "doc=documents[0]"
   ]
  },
  {
   "cell_type": "code",
   "execution_count": null,
   "id": "84da27ef-204f-496c-b5c6-44a39dbe9cf2",
   "metadata": {},
   "outputs": [],
   "source": [
    "doc.pop(\"_id\")"
   ]
  },
  {
   "cell_type": "code",
   "execution_count": null,
   "id": "f3a34e65-c1cd-4c65-ab26-caa374a6f914",
   "metadata": {},
   "outputs": [],
   "source": []
  },
  {
   "cell_type": "markdown",
   "id": "8894e20a-7c1c-4b0f-bf15-a74e3cb682c0",
   "metadata": {},
   "source": [
    "lst = [False, False, True, False]\r\n",
    "print(any(lst))"
   ]
  },
  {
   "cell_type": "code",
   "execution_count": null,
   "id": "73139b3a-a78b-46c3-a0cc-299366e919b0",
   "metadata": {},
   "outputs": [],
   "source": [
    "lst = [True, True, True, False]\n",
    "print(any(lst))"
   ]
  },
  {
   "cell_type": "code",
   "execution_count": null,
   "id": "34c9cb9d-9872-497a-b96a-37a62d14ecd2",
   "metadata": {},
   "outputs": [],
   "source": []
  },
  {
   "cell_type": "code",
   "execution_count": null,
   "id": "bf8b6c2a-7140-4773-af8b-6771d1113afb",
   "metadata": {},
   "outputs": [],
   "source": []
  }
 ],
 "metadata": {
  "kernelspec": {
   "display_name": "Python 3 (ipykernel)",
   "language": "python",
   "name": "python3"
  },
  "language_info": {
   "codemirror_mode": {
    "name": "ipython",
    "version": 3
   },
   "file_extension": ".py",
   "mimetype": "text/x-python",
   "name": "python",
   "nbconvert_exporter": "python",
   "pygments_lexer": "ipython3",
   "version": "3.11.0"
  }
 },
 "nbformat": 4,
 "nbformat_minor": 5
}
