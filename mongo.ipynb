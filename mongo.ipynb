{
 "cells": [
  {
   "cell_type": "code",
   "execution_count": 1,
   "id": "430905fc-dbad-445e-9305-fea028d709d4",
   "metadata": {},
   "outputs": [],
   "source": [
    "import os"
   ]
  },
  {
   "cell_type": "code",
   "execution_count": 2,
   "id": "b25dee6b-a76b-45a9-88c9-5643865175e3",
   "metadata": {},
   "outputs": [],
   "source": [
    "import json\n",
    "from pymongo import MongoClient\n"
   ]
  },
  {
   "cell_type": "code",
   "execution_count": 3,
   "id": "01b12510-1c40-4a07-bd70-bcfc753c7f70",
   "metadata": {},
   "outputs": [],
   "source": [
    "myclient=MongoClient(\"mongodb://localhost:27017\")"
   ]
  },
  {
   "cell_type": "code",
   "execution_count": 4,
   "id": "828faf85-d4c9-4be0-8658-da3337018845",
   "metadata": {},
   "outputs": [],
   "source": [
    "db=myclient['TextDataset']"
   ]
  },
  {
   "cell_type": "code",
   "execution_count": 19,
   "id": "89060037-c551-4b81-b270-e3887286c040",
   "metadata": {},
   "outputs": [
    {
     "name": "stdout",
     "output_type": "stream",
     "text": [
      "C:/Users/pooja/Downloads/JSONFiles/A\n"
     ]
    }
   ],
   "source": [
    "root_path=\"C:/Users/pooja/Downloads/JSONFiles/\"\n",
    "root_list=os.listdir(folder_path)\n",
    "for folder in root_list:\n",
    "    collection=db[folder]\n",
    "    foder2_path=root_path+folder\n",
    "print(file_path)\n",
    "file_list=os.listdir(file_path)\n",
    "#with open("
   ]
  },
  {
   "cell_type": "code",
   "execution_count": 5,
   "id": "77470033-6eb7-4efd-926f-eb6d5118ac80",
   "metadata": {},
   "outputs": [
    {
     "data": {
      "text/plain": [
       "InsertOneResult(ObjectId('6618ca725bbaefd4417bb7d7'), acknowledged=True)"
      ]
     },
     "execution_count": 5,
     "metadata": {},
     "output_type": "execute_result"
    }
   ],
   "source": [
    "Collection= db[\"data\"]\n",
    " \n",
    "# Loading or Opening the json file\n",
    "with open('C:/Users/pooja/Downloads/JSONFiles/A/A01B.json') as file:\n",
    "    file_data = json.load(file)\n",
    "\n",
    "Collection.insert_one(file_data)"
   ]
  },
  {
   "cell_type": "code",
   "execution_count": null,
   "id": "03413d44-da71-4905-95ef-9fb306f40314",
   "metadata": {},
   "outputs": [],
   "source": []
  }
 ],
 "metadata": {
  "kernelspec": {
   "display_name": "Python 3 (ipykernel)",
   "language": "python",
   "name": "python3"
  },
  "language_info": {
   "codemirror_mode": {
    "name": "ipython",
    "version": 3
   },
   "file_extension": ".py",
   "mimetype": "text/x-python",
   "name": "python",
   "nbconvert_exporter": "python",
   "pygments_lexer": "ipython3",
   "version": "3.11.0"
  }
 },
 "nbformat": 4,
 "nbformat_minor": 5
}
