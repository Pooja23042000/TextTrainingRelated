{
 "cells": [
  {
   "cell_type": "code",
   "execution_count": 1,
   "id": "035d83c4-7588-4901-b101-05a534052f5f",
   "metadata": {},
   "outputs": [
    {
     "name": "stdout",
     "output_type": "stream",
     "text": [
      "WARNING:tensorflow:From C:\\Users\\pooja\\anaconda3\\envs\\textanalysis\\Lib\\site-packages\\keras\\src\\losses.py:2976: The name tf.losses.sparse_softmax_cross_entropy is deprecated. Please use tf.compat.v1.losses.sparse_softmax_cross_entropy instead.\n",
      "\n"
     ]
    }
   ],
   "source": [
    "import json\n",
    "import os\n",
    "from tensorflow.keras.preprocessing.text import Tokenizer\n",
    "import pandas as pd\n",
    "import pdb"
   ]
  },
  {
   "cell_type": "code",
   "execution_count": 2,
   "id": "3867a4a5-517e-49e4-b016-07d8d13540c6",
   "metadata": {},
   "outputs": [],
   "source": [
    "symbols=[]\n",
    "definitions=[]"
   ]
  },
  {
   "cell_type": "code",
   "execution_count": null,
   "id": "a3b215d8-d195-4db4-bb93-7ddc0dc690e4",
   "metadata": {},
   "outputs": [],
   "source": [
    "def read_json_files(folder_path):\n",
    "    #pdb.set_trace()\n",
    "    fol_list=os.listdir(folder_path)\n",
    "    for folder in fol_list:\n",
    "        files_path=folder_path+folder+\"\\\\\"\n",
    "        file_list=os.listdir(files_path)\n",
    "        for jsonfile in file_list:\n",
    "            file_path=files_path+jsonfile\n",
    "            if jsonfile.endswith('.json'):\n",
    "                filename=jsonfile.replace('.json','')\n",
    "                with open(file_path,'r') as file:\n",
    "                    data=json.load(file)\n",
    "                    key=filename\n",
    "                    value='/'.join(data[key])\n",
    "                    symbols.append(key)\n",
    "                    definitions.append(value)\n",
    "    return symbols,definitions  \n",
    "            \n",
    "folder_path=\"C:\\\\Users\\\\pooja\\\\Downloads\\\\JSONFiles\\\\\"\n",
    "symbols,definitions=read_json_files(folder_path)"
   ]
  },
  {
   "cell_type": "code",
   "execution_count": null,
   "id": "bb8eb1f3-2429-4b10-9b19-13af45551dc2",
   "metadata": {},
   "outputs": [],
   "source": [
    "df=pd.DataFrame({\n",
    "    'symbols':symbols,\n",
    "    'definitions':definitions\n",
    "})"
   ]
  },
  {
   "cell_type": "code",
   "execution_count": null,
   "id": "fac019d0-0a14-47f1-8c34-d5597b9b16d3",
   "metadata": {},
   "outputs": [],
   "source": [
    "symbols"
   ]
  },
  {
   "cell_type": "code",
   "execution_count": null,
   "id": "1135843c-6856-4a59-8922-c975f0d34456",
   "metadata": {},
   "outputs": [],
   "source": [
    "df"
   ]
  },
  {
   "cell_type": "code",
   "execution_count": null,
   "id": "7b4540dc-2f4b-4536-a2ad-4164d96775a0",
   "metadata": {},
   "outputs": [],
   "source": [
    "symbol=list(data.keys())\n",
    "definitions=list(data.values())"
   ]
  },
  {
   "cell_type": "code",
   "execution_count": null,
   "id": "41b09409-2841-4f78-bd3d-269a607bf2a7",
   "metadata": {},
   "outputs": [],
   "source": [
    "#tokenisation\n",
    "tok_def=Tokenizer()\n",
    "tok_def.fit_on_texts([word for sublist in definitions for sublist in word])\n",
    "seq_def=tok_def.texts_to_sequences([word for sublist in definitions for sublist in word])\n"
   ]
  },
  {
   "cell_type": "code",
   "execution_count": null,
   "id": "12b57fea-1585-4538-9dc3-06b9eb198efa",
   "metadata": {},
   "outputs": [],
   "source": [
    "max_seq_length=max("
   ]
  },
  {
   "cell_type": "code",
   "execution_count": null,
   "id": "245548a7-8d12-4061-8b6b-a051991a9363",
   "metadata": {},
   "outputs": [],
   "source": []
  }
 ],
 "metadata": {
  "kernelspec": {
   "display_name": "Python 3 (ipykernel)",
   "language": "python",
   "name": "python3"
  },
  "language_info": {
   "codemirror_mode": {
    "name": "ipython",
    "version": 3
   },
   "file_extension": ".py",
   "mimetype": "text/x-python",
   "name": "python",
   "nbconvert_exporter": "python",
   "pygments_lexer": "ipython3",
   "version": "3.11.0"
  }
 },
 "nbformat": 4,
 "nbformat_minor": 5
}
