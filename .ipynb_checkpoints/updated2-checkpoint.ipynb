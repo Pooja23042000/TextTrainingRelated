{
 "cells": [
  {
   "cell_type": "code",
   "execution_count": 1,
   "id": "1cc0857e-96d0-4df6-9567-62961cb43664",
   "metadata": {},
   "outputs": [],
   "source": [
    "import os\n",
    "import xml.etree.ElementTree as ET\n",
    "import pdb\n"
   ]
  },
  {
   "cell_type": "code",
   "execution_count": 2,
   "id": "ca8c870e-2852-4d92-be37-4e0281135dc6",
   "metadata": {},
   "outputs": [],
   "source": [
    "def build_classification_tree(node):\n",
    "    #pdb.set_trace()\n",
    "    classification_symbol = node.find('classification-symbol').text\n",
    "    title_text_list=[]\n",
    "    cpc_text_list=[]\n",
    "    title_parts = node.findall('class-title/title-part')\n",
    "    for title_part in title_parts:\n",
    "        text_tag = title_part.find('text')\n",
    "        if text_tag is not None:\n",
    "            text= text_tag.text\n",
    "            title_text_list.append(text)\n",
    "            \n",
    "    cpc_text = node.findall('class-title/title-part/CPC-specific-text')\n",
    "    for cpc_part in cpc_text:\n",
    "        text_tag = cpc_part.find('text')\n",
    "        if text_tag is not None:\n",
    "            text= text_tag.text\n",
    "            cpc_text_list.append(text)\n",
    "\n",
    "    classification_def = title_text_list + cpc_text_list\n",
    "    classification_def = [def_item for def_item in classification_def if def_item is not None]\n",
    "    classification_def=';'.join(classification_def)\n",
    "    children = node.findall('classification-item')\n",
    "\n",
    "    if children:\n",
    "        child_results = [build_classification_tree(child) for child in children]\n",
    "        return (classification_symbol, classification_def, child_results)\n",
    "    else:\n",
    "        return (classification_symbol, classification_def)\n"
   ]
  },
  {
   "cell_type": "code",
   "execution_count": 3,
   "id": "6b8a3254-8223-486f-a916-4e67023b7a01",
   "metadata": {},
   "outputs": [],
   "source": [
    "# Function to process XML files in a folder\n",
    "def process_xml_files_in_folder(folder_path):\n",
    "    #pdb.set_trace()\n",
    "    classification_trees = []\n",
    "    for filename in os.listdir(folder_path):\n",
    "        if filename.endswith('.xml'):\n",
    "            xml_file_path = os.path.join(folder_path, filename)\n",
    "            tree = ET.parse(xml_file_path)\n",
    "            root = tree.getroot()\n",
    "            baseroot = root[0]  # Assuming the structure is consistent\n",
    "            classification_tree = build_classification_tree(baseroot)\n",
    "            #print(classification_tree)\n",
    "            classification_trees.append((filename, classification_tree))\n",
    "    return classification_trees"
   ]
  },
  {
   "cell_type": "code",
   "execution_count": 4,
   "id": "aae2d2e5-8467-46b4-977d-6bfa6c1b07fa",
   "metadata": {},
   "outputs": [],
   "source": [
    "# Full path to folder containing XML files\n",
    "folder_path1 = os.path.join(os.path.expanduser(\"~\"), \"Downloads\", \"CPCSchemeXML202401\")\n",
    "folder_path2 = os.path.join(os.path.expanduser(\"~\"), \"Downloads\", \"CPCSchemeXML202401\",\"ClassXMLfiles\")\n",
    "# Process XML files in the folder\n",
    "classification_trees = process_xml_files_in_folder(folder_path1)\n",
    "c_tree=process_xml_files_in_folder(folder_path2)\n",
    "\n",
    "# Print classification trees\n",
    "#classification_trees"
   ]
  },
  {
   "cell_type": "code",
   "execution_count": 5,
   "id": "7e6ee8d8-7ad7-46e9-acf4-ddb6b1d997be",
   "metadata": {},
   "outputs": [],
   "source": [
    "import pdb\n",
    "\n",
    "def get_child(child_list, prev_symbols, result):\n",
    "    #pdb.set_trace()\n",
    "    \n",
    "    for child_tuple in child_list:\n",
    "        symbol = child_tuple[0]\n",
    "        definition = child_tuple[1]\n",
    "        result[symbol] = prev_symbols + [definition]\n",
    "        \n",
    "        if len(child_tuple) == 3:\n",
    "            sub_child = child_tuple[2]\n",
    "            get_child(sub_child, prev_symbols + [definition], result)\n",
    "\n",
    "    return result\n"
   ]
  },
  {
   "cell_type": "code",
   "execution_count": 6,
   "id": "aed10212-1bf9-4cc0-aac2-7cf73f74624d",
   "metadata": {},
   "outputs": [],
   "source": [
    "withSlashDict = {}"
   ]
  },
  {
   "cell_type": "code",
   "execution_count": 7,
   "id": "c2c6a3ee-ddd8-4f20-8a4f-cd9824002192",
   "metadata": {},
   "outputs": [],
   "source": [
    "\n",
    "for i in range(len(c_tree)):\n",
    "    #child_list_example =[classification_trees[i][1]]\n",
    "    child_list_example1 =[c_tree[i][1]]\n",
    "    \n",
    "    # Calling the function\n",
    "    get_child(child_list_example1, [], withSlashDict)\n",
    "    \n"
   ]
  },
  {
   "cell_type": "code",
   "execution_count": 8,
   "id": "58b52a79-3c85-44e4-accf-969f070bfea3",
   "metadata": {},
   "outputs": [],
   "source": [
    "\n",
    "for i in range(len(classification_trees)):\n",
    "    prev=classification_trees[i][0].replace('.xml','')[-4:-1]\n",
    "    child_list_example =[classification_trees[i][1]]\n",
    "    #print(prev_sym)\n",
    "    # Calling the function\n",
    "    get_child(child_list_example, withSlashDict[prev], withSlashDict)\n",
    "    \n"
   ]
  },
  {
   "cell_type": "code",
   "execution_count": 9,
   "id": "d7cb4e59-5aac-4428-b3e8-83c1f92f79f1",
   "metadata": {},
   "outputs": [
    {
     "data": {
      "text/plain": [
       "['ELECTRICITY',\n",
       " '',\n",
       " 'ELECTRIC COMMUNICATION TECHNIQUE',\n",
       " 'TRANSMISSION OF DIGITAL INFORMATION, e.g. TELEGRAPHIC COMMUNICATION ',\n",
       " '',\n",
       " 'Network arrangements, protocols or services independent of the application payload and not provided for in the other groups of this subclass ',\n",
       " 'Multiprotocol handlers, e.g. single devices capable of handling multiple protocols']"
      ]
     },
     "execution_count": 9,
     "metadata": {},
     "output_type": "execute_result"
    }
   ],
   "source": [
    "withSlashDict['H04L69/18']"
   ]
  },
  {
   "cell_type": "code",
   "execution_count": 10,
   "id": "668be3bb-7938-4aff-b059-b2e6477c9d18",
   "metadata": {},
   "outputs": [],
   "source": [
    "import re\n",
    "withoutSlashDict={}\n",
    "for key,val in withSlashDict.items():\n",
    "    new_key=re.sub(r'[^a-zA-Z0-9]','',key)\n",
    "    withoutSlashDict[new_key]=val\n"
   ]
  },
  {
   "cell_type": "code",
   "execution_count": 11,
   "id": "a1715da7-442b-4c5d-b8c4-dd1cda7b0ea2",
   "metadata": {},
   "outputs": [
    {
     "data": {
      "text/plain": [
       "['CHEMISTRY;METALLURGY',\n",
       " 'CHEMISTRY',\n",
       " 'ORGANIC CHEMISTRY',\n",
       " 'HETEROCYCLIC COMPOUNDS ',\n",
       " 'Heterocyclic compounds containing condensed hetero ring systems',\n",
       " 'Heterocyclic compounds containing in the condensed system at least one hetero ring having nitrogen and oxygen atoms as the only ring hetero atoms ',\n",
       " 'in which the condensed system contains two hetero rings',\n",
       " 'Ortho-condensed systems']"
      ]
     },
     "execution_count": 11,
     "metadata": {},
     "output_type": "execute_result"
    }
   ],
   "source": [
    "withoutSlashDict['C07D49804']"
   ]
  },
  {
   "cell_type": "code",
   "execution_count": 12,
   "id": "a6d17493-af32-4381-954a-a7b1c99cad59",
   "metadata": {},
   "outputs": [],
   "source": [
    "ResDefDict={}\n",
    "for key,val in withSlashDict.items():\n",
    "    ResDefDict[key]=val[-1]"
   ]
  },
  {
   "cell_type": "code",
   "execution_count": 13,
   "id": "b6e56a74-37e8-48c4-8919-72db94b2fe91",
   "metadata": {},
   "outputs": [
    {
     "data": {
      "text/plain": [
       "'Driving mechanisms '"
      ]
     },
     "execution_count": 13,
     "metadata": {},
     "output_type": "execute_result"
    }
   ],
   "source": [
    "ResDefDict['G04B1/00']"
   ]
  },
  {
   "cell_type": "code",
   "execution_count": 14,
   "id": "e6590357-39d8-412b-87e3-780660f95b2c",
   "metadata": {},
   "outputs": [],
   "source": [
    "dict={'C07D49804':['CHEMISTRY;METALLURGY',\n",
    " 'CHEMISTRY',\n",
    " 'ORGANIC CHEMISTRY',\n",
    " 'HETEROCYCLIC COMPOUNDS ',\n",
    " 'Heterocyclic compounds containing condensed hetero ring systems',\n",
    " 'Heterocyclic compounds containing in the condensed system at least one hetero ring having nitrogen and oxygen atoms as the only ring hetero atoms ',\n",
    " 'in which the condensed system contains two hetero rings',\n",
    " 'Ortho-condensed systems']}"
   ]
  },
  {
   "cell_type": "code",
   "execution_count": 17,
   "id": "75caa193-7d5a-4761-9fa1-c75bbddcda22",
   "metadata": {},
   "outputs": [
    {
     "name": "stdout",
     "output_type": "stream",
     "text": [
      "{\n",
      "    \"C07D49804\": \"Ortho-condensed systems\"\n",
      "}\n"
     ]
    }
   ],
   "source": [
    "import json\n",
    "\n",
    "def create_folders(str):\n",
    "    folder_path=\"C:\\\\Users\\\\pooja\\\\Downloads\\\\JSONFiles\\\\\" + str\n",
    "    os.makedirs(folder_path,exist_ok=True)\n",
    "    return folder_path\n",
    "\n",
    "for key,val in dict.items():\n",
    "    str=key[0]\n",
    "    file_path=create_folders(str)+\"\\\\\"+ key+ \".json\"\n",
    "    valdef=\"--\".join(val)\n",
    "    keywithoutSlash=re.sub(r'[^a-zA-Z0-9]','',key)\n",
    "    jsondata={\n",
    "        key:valdef,\n",
    "        keywithoutSlash:valdef,\n",
    "        key:val[-1],   \n",
    "    }\n",
    "    with open(file_path,\"w\") as jsonfile:\n",
    "        json.dump(jsondata,jsonfile)\n",
    "    \n",
    "    \n",
    "    "
   ]
  },
  {
   "cell_type": "code",
   "execution_count": null,
   "id": "de028069-0156-4f2f-b1ea-a2bb3ed77cc0",
   "metadata": {},
   "outputs": [],
   "source": [
    "dict"
   ]
  },
  {
   "cell_type": "code",
   "execution_count": null,
   "id": "6eb1af31-d490-49a5-b0b3-01646ce3eb64",
   "metadata": {},
   "outputs": [],
   "source": []
  },
  {
   "cell_type": "code",
   "execution_count": null,
   "id": "19401ac9-76b3-4bf9-a55e-b429873b741c",
   "metadata": {},
   "outputs": [],
   "source": []
  },
  {
   "cell_type": "code",
   "execution_count": null,
   "id": "7b3ef8b1-02e0-476e-93d7-3219be9f1218",
   "metadata": {},
   "outputs": [],
   "source": []
  },
  {
   "cell_type": "code",
   "execution_count": null,
   "id": "3cd0c1f8-0bc5-4309-8710-70935e779c5f",
   "metadata": {},
   "outputs": [],
   "source": []
  },
  {
   "cell_type": "code",
   "execution_count": null,
   "id": "b9e1e516-0df8-4254-90f2-f648d22c565c",
   "metadata": {},
   "outputs": [],
   "source": []
  },
  {
   "cell_type": "code",
   "execution_count": null,
   "id": "66e6e1ff-3403-4de1-9c86-fb047614a461",
   "metadata": {},
   "outputs": [],
   "source": []
  },
  {
   "cell_type": "code",
   "execution_count": null,
   "id": "c69631d5-3348-4427-8e0e-5ea244885291",
   "metadata": {},
   "outputs": [],
   "source": []
  },
  {
   "cell_type": "code",
   "execution_count": null,
   "id": "d8801b0f-b80d-4ca4-a74f-cc3ae6ffa845",
   "metadata": {},
   "outputs": [],
   "source": []
  },
  {
   "cell_type": "code",
   "execution_count": null,
   "id": "ac1d6092-f48c-4879-8faf-dfc813033576",
   "metadata": {},
   "outputs": [],
   "source": []
  },
  {
   "cell_type": "code",
   "execution_count": null,
   "id": "234cd082-be22-4417-bb37-16383d407984",
   "metadata": {},
   "outputs": [],
   "source": []
  },
  {
   "cell_type": "code",
   "execution_count": null,
   "id": "c7fdb027-8139-4f34-80c4-aed8a1c7169b",
   "metadata": {},
   "outputs": [],
   "source": []
  },
  {
   "cell_type": "code",
   "execution_count": null,
   "id": "66bcbc0e-bacf-4974-9d12-bf0080e45d5e",
   "metadata": {},
   "outputs": [],
   "source": []
  },
  {
   "cell_type": "code",
   "execution_count": null,
   "id": "23292182-2b33-4467-81dd-be84ed4a381b",
   "metadata": {},
   "outputs": [],
   "source": []
  },
  {
   "cell_type": "code",
   "execution_count": null,
   "id": "edbbb2cb-19c3-4586-afb9-edcc1a9be54e",
   "metadata": {},
   "outputs": [],
   "source": [
    "xml_path=\"Downloads/CPCSchemeXML202401/cpc-scheme-A01B.xml\""
   ]
  },
  {
   "cell_type": "code",
   "execution_count": null,
   "id": "1619d477-1686-44e5-a87b-ef92340d6679",
   "metadata": {},
   "outputs": [],
   "source": [
    "tree=ET.parse(xml_path)"
   ]
  },
  {
   "cell_type": "code",
   "execution_count": null,
   "id": "ae4f7539-d54d-4e03-aeac-64c0e470b7b3",
   "metadata": {},
   "outputs": [],
   "source": [
    "root=tree.getroot()"
   ]
  },
  {
   "cell_type": "code",
   "execution_count": null,
   "id": "7f71ab3f-a85e-4ca5-b125-1e3004e46af9",
   "metadata": {},
   "outputs": [],
   "source": [
    "root.tag"
   ]
  },
  {
   "cell_type": "code",
   "execution_count": null,
   "id": "6d7c8341-6b94-4720-a0fb-0bf998f6a99c",
   "metadata": {},
   "outputs": [],
   "source": [
    "root.findall('classification-item')"
   ]
  },
  {
   "cell_type": "code",
   "execution_count": null,
   "id": "9761a1a8-5d6c-478e-a8c7-65aa5f40753a",
   "metadata": {},
   "outputs": [],
   "source": [
    "baseroot=root[0]\n",
    "baseroot"
   ]
  },
  {
   "cell_type": "code",
   "execution_count": null,
   "id": "878ad17c-b558-40e5-8fef-a21944de24ee",
   "metadata": {},
   "outputs": [],
   "source": [
    "def build_classification_tree(node):\n",
    "    #pdb.set_trace()\n",
    "    classification_symbol = node.find('classification-symbol').text\n",
    "    title_text_list=[]\n",
    "    cpc_text_list=[]\n",
    "    title_parts = node.findall('class-title/title-part')\n",
    "    for title_part in title_parts:\n",
    "        text_tag = title_part.find('text')\n",
    "        if text_tag is not None:\n",
    "            text= text_tag.text\n",
    "            title_text_list.append(text)\n",
    "            \n",
    "    cpc_text = node.findall('class-title/title-part/CPC-specific-text')\n",
    "    for cpc_part in cpc_text:\n",
    "        text_tag = cpc_part.find('text')\n",
    "        if text_tag is not None:\n",
    "            text= text_tag.text\n",
    "            cpc_text_list.append(text)\n",
    "\n",
    "    classification_def = title_text_list + cpc_text_list\n",
    "    classification_def=';'.join(classification_def)\n",
    "    children = node.findall('classification-item')\n",
    "\n",
    "    if children:\n",
    "        child_results = [build_classification_tree(child) for child in children]\n",
    "        return (classification_symbol, classification_def, child_results)\n",
    "    else:\n",
    "        return (classification_symbol, classification_def)\n"
   ]
  },
  {
   "cell_type": "code",
   "execution_count": null,
   "id": "be318292-d5d5-4f32-8d1e-97fb2f7da79a",
   "metadata": {},
   "outputs": [],
   "source": [
    "classification_tree=build_classification_tree(baseroot)"
   ]
  },
  {
   "cell_type": "code",
   "execution_count": null,
   "id": "faa5db21-e5cf-46f2-97ee-c302b677a453",
   "metadata": {},
   "outputs": [],
   "source": [
    "classification_tree\n"
   ]
  },
  {
   "cell_type": "code",
   "execution_count": null,
   "id": "c87cd57a-5d3a-4dba-9d15-14a0656e68db",
   "metadata": {},
   "outputs": [],
   "source": []
  },
  {
   "cell_type": "code",
   "execution_count": null,
   "id": "a8a141ff-c9d7-447d-bc0d-2162120601bc",
   "metadata": {},
   "outputs": [],
   "source": []
  },
  {
   "cell_type": "code",
   "execution_count": null,
   "id": "a81b09f0-3f82-461c-bfac-6cf34065c1a0",
   "metadata": {},
   "outputs": [],
   "source": []
  },
  {
   "cell_type": "code",
   "execution_count": null,
   "id": "720971cc-d16c-4c93-b2e9-26ff2f830e90",
   "metadata": {},
   "outputs": [],
   "source": []
  },
  {
   "cell_type": "code",
   "execution_count": null,
   "id": "c3e086c2-05da-4f55-9ef7-a1bd21e964cf",
   "metadata": {},
   "outputs": [],
   "source": []
  },
  {
   "cell_type": "code",
   "execution_count": null,
   "id": "62b10c87-a1b1-4eba-bb5f-765295701a27",
   "metadata": {},
   "outputs": [],
   "source": []
  },
  {
   "cell_type": "code",
   "execution_count": null,
   "id": "bfd1425d-d2a3-4103-b8f0-78467e869031",
   "metadata": {},
   "outputs": [],
   "source": []
  },
  {
   "cell_type": "code",
   "execution_count": null,
   "id": "f56d6e32-d153-4848-a9c1-d2def00d1946",
   "metadata": {},
   "outputs": [],
   "source": []
  },
  {
   "cell_type": "code",
   "execution_count": null,
   "id": "c8e1ba46-a0a5-480a-8eee-2852c815cb05",
   "metadata": {},
   "outputs": [],
   "source": []
  },
  {
   "cell_type": "code",
   "execution_count": null,
   "id": "a142ff8e-1469-46c4-89b0-0e1bf7483e42",
   "metadata": {},
   "outputs": [],
   "source": []
  },
  {
   "cell_type": "code",
   "execution_count": null,
   "id": "7770b9ea-d3e9-401c-b317-8ea854aa6f27",
   "metadata": {},
   "outputs": [],
   "source": []
  },
  {
   "cell_type": "code",
   "execution_count": null,
   "id": "06be63e7-b684-4df4-bd58-5f371b40f1ea",
   "metadata": {},
   "outputs": [],
   "source": []
  },
  {
   "cell_type": "code",
   "execution_count": null,
   "id": "673b6552-07be-4288-a5b1-e477f951bf12",
   "metadata": {},
   "outputs": [],
   "source": []
  },
  {
   "cell_type": "code",
   "execution_count": null,
   "id": "08e5b429-f28b-45eb-8c87-8acfc5026c96",
   "metadata": {},
   "outputs": [],
   "source": []
  },
  {
   "cell_type": "code",
   "execution_count": null,
   "id": "650520f0-8a98-4a4c-a74b-b8ea820eea63",
   "metadata": {},
   "outputs": [],
   "source": [
    "prev=classification_trees[0][0].replace('.xml','')[-4:]\n",
    "prev"
   ]
  },
  {
   "cell_type": "code",
   "execution_count": null,
   "id": "f9ef6c9a-5757-4f91-add1-a61f54a596dc",
   "metadata": {},
   "outputs": [],
   "source": [
    "dict={'A':[\"hiii\"]}\n",
    "dict"
   ]
  },
  {
   "cell_type": "code",
   "execution_count": null,
   "id": "a94e3e93-91b0-4814-9d36-46344c1546d6",
   "metadata": {},
   "outputs": [],
   "source": [
    "prev=dict['A']"
   ]
  },
  {
   "cell_type": "code",
   "execution_count": null,
   "id": "0d446e82-3d98-42a6-9e5e-62d3861d23f2",
   "metadata": {},
   "outputs": [],
   "source": [
    "prev+[\"hello\"]"
   ]
  },
  {
   "cell_type": "code",
   "execution_count": null,
   "id": "a3e7880a-5216-4508-917f-3e9cc94aee9a",
   "metadata": {},
   "outputs": [],
   "source": []
  },
  {
   "cell_type": "code",
   "execution_count": null,
   "id": "bf4d3f7a-1bef-4237-a9d3-95586755bddd",
   "metadata": {},
   "outputs": [],
   "source": []
  },
  {
   "cell_type": "code",
   "execution_count": null,
   "id": "794930b8-50c9-4dd2-89ac-91f4891da769",
   "metadata": {},
   "outputs": [],
   "source": [
    "# Function to search for a value in a hierarchical list\n",
    "def search_nested_list(nested_list, value_to_find):\n",
    "    for item in nested_list:\n",
    "        if isinstance(item, list):  # If the item is a sublist\n",
    "            # Recursively search the sublist\n",
    "            found = search_nested_list(item, value_to_find)\n",
    "            if found:\n",
    "                return True\n",
    "        elif item == value_to_find:\n",
    "            return True\n",
    "    return False\n",
    "\n",
    "# Sample hierarchical list\n",
    "hierarchical_list = [1, [2, [3, 4], 5], [6, 7], 8]\n",
    "\n",
    "# Value to find\n",
    "value_to_find = A01B\n",
    "\n",
    "# Search for the value in the hierarchical list\n",
    "if search_nested_list(hierarchical_list, value_to_find):\n",
    "    print(f\"The value {value_to_find} is in the hierarchical list.\")\n",
    "else:\n",
    "    print(f\"The value {value_to_find} is not in the hierarchical list.\")\n"
   ]
  },
  {
   "cell_type": "code",
   "execution_count": null,
   "id": "0ed0cff0-adcd-4b75-a559-675610d95fca",
   "metadata": {},
   "outputs": [],
   "source": [
    "msg=\"Hello World\""
   ]
  },
  {
   "cell_type": "code",
   "execution_count": null,
   "id": "ae00f270-cbfa-4606-a18b-e5c5b95f9819",
   "metadata": {},
   "outputs": [],
   "source": [
    "msg"
   ]
  },
  {
   "cell_type": "code",
   "execution_count": null,
   "id": "78a3b6cd-95fc-4274-82ba-bd0e8ac12718",
   "metadata": {},
   "outputs": [],
   "source": []
  }
 ],
 "metadata": {
  "kernelspec": {
   "display_name": "Python 3 (ipykernel)",
   "language": "python",
   "name": "python3"
  },
  "language_info": {
   "codemirror_mode": {
    "name": "ipython",
    "version": 3
   },
   "file_extension": ".py",
   "mimetype": "text/x-python",
   "name": "python",
   "nbconvert_exporter": "python",
   "pygments_lexer": "ipython3",
   "version": "3.11.0"
  }
 },
 "nbformat": 4,
 "nbformat_minor": 5
}
